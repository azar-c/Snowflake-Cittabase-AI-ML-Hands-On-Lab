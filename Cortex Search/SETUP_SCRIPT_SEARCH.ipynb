{
 "metadata": {
  "kernelspec": {
   "display_name": "Streamlit Notebook",
   "name": "streamlit"
  },
  "lastEditStatus": {
   "notebookId": "2665xtieiay7wb7qdqiz",
   "authorId": "7180874423419",
   "authorName": "AZAR",
   "authorEmail": "azar.mohammed@cittabase.com",
   "sessionId": "17e5c1eb-2014-4a97-97d8-d028f9f77aeb",
   "lastEditTime": 1750564987354
  }
 },
 "nbformat_minor": 5,
 "nbformat": 4,
 "cells": [
  {
   "cell_type": "markdown",
   "id": "da9eb39a-9616-4f56-966a-a364155157b4",
   "metadata": {
    "name": "cell11",
    "collapsed": false
   },
   "source": "### Setting Up the Database and Stage "
  },
  {
   "cell_type": "code",
   "id": "3775908f-ca36-4846-8f38-5adca39217f2",
   "metadata": {
    "language": "sql",
    "name": "cell1"
   },
   "source": "-- Create Stage for Analyst\n\nUSE  DATABASE CHATBOT_WORKSHOP_DB;\n\n\nUSE CHATBOT_WORKSHOP_DB;\n\nCREATE OR REPLACE STAGE DOCS ENCRYPTION = (TYPE = 'SNOWFLAKE_SSE') DIRECTORY = ( ENABLE = true );\n\n\n-- Create External Stage \nCREATE OR REPLACE STAGE CORTEX_SEARCH_EXT_STG\nurl = 's3://holworkshopbucket/Cortex-Search/'\nfile_format = (type = csv);",
   "execution_count": null,
   "outputs": []
  },
  {
   "cell_type": "markdown",
   "id": "e2cad000-d77a-4504-a9c8-fbf31b1a72bd",
   "metadata": {
    "name": "cell2",
    "collapsed": false
   },
   "source": "### Copy the Source PDF File into Docs Stage from the Cortex Search External Stage"
  },
  {
   "cell_type": "code",
   "id": "3416f33b-b4eb-4c03-b8b8-18e2c3fba57b",
   "metadata": {
    "language": "sql",
    "name": "cell4",
    "codeCollapsed": false
   },
   "outputs": [],
   "source": "COPY FILES INTO @CORTEX_ANALYST_STG FROM @CORTEX_ANALYST_EXT_STG/ticket.yaml;",
   "execution_count": null
  },
  {
   "cell_type": "markdown",
   "id": "ebcc224b-f4fa-4a45-ac90-c094b83caf0b",
   "metadata": {
    "name": "cell12",
    "collapsed": false
   },
   "source": "### Creating a python function to chunk the pdf document into vectors"
  },
  {
   "cell_type": "code",
   "id": "54610cf3-a5bf-4b7f-a2a8-495046b351ce",
   "metadata": {
    "language": "sql",
    "name": "cell7",
    "codeCollapsed": false
   },
   "outputs": [],
   "source": "create or replace function text_chunker(pdf_text string)\nreturns table (chunk varchar)\nlanguage python\nruntime_version = '3.9'\nhandler = 'text_chunker'\npackages = ('snowflake-snowpark-python', 'langchain')\nas\n$$\nfrom snowflake.snowpark.types import StringType, StructField, StructType\nfrom langchain.text_splitter import RecursiveCharacterTextSplitter\nimport pandas as pd\n\nclass text_chunker:\n\n    def process(self, pdf_text: str):\n        \n        text_splitter = RecursiveCharacterTextSplitter(\n            chunk_size = 1512, # Adjust this as you see fit\n            chunk_overlap  = 256, # This enables text have some form of overlap. Useful for keeping chunks contextual\n            length_function = len\n        )\n    \n        chunks = text_splitter.split_text(pdf_text)\n        df = pd.DataFrame(chunks, columns=['chunks'])\n        \n        yield from df.itertuples(index=False, name=None)\n$$;\n",
   "execution_count": null
  },
  {
   "cell_type": "markdown",
   "id": "d3235f0c-4244-49e8-a48a-27b794bcf714",
   "metadata": {
    "name": "cell13",
    "collapsed": false
   },
   "source": "### Listing the file in the docs stage"
  },
  {
   "cell_type": "code",
   "id": "82ae2b3d-d42e-4f59-a688-1b43d5fdd3c2",
   "metadata": {
    "language": "sql",
    "name": "cell5"
   },
   "outputs": [],
   "source": "ls @docs;",
   "execution_count": null
  },
  {
   "cell_type": "markdown",
   "id": "4b0cbd77-6a73-40af-a4a5-e159f352b5ad",
   "metadata": {
    "name": "cell14",
    "collapsed": false
   },
   "source": "### Create the table where we are going to store the chunks extracted from the PDF.\n\n"
  },
  {
   "cell_type": "code",
   "id": "f27366bc-d0ee-4c49-a9fb-7a646676dfc8",
   "metadata": {
    "language": "sql",
    "name": "cell3"
   },
   "outputs": [],
   "source": "create or replace TABLE DOCS_CHUNKS_TABLE ( \n    RELATIVE_PATH VARCHAR(16777216), -- Relative path to the PDF file\n    SIZE NUMBER(38,0), -- Size of the PDF\n    FILE_URL VARCHAR(16777216), -- URL for the PDF\n    SCOPED_FILE_URL VARCHAR(16777216), -- Scoped url (you can choose which one to keep depending on your use case)\n    CHUNK VARCHAR(16777216), -- Piece of text\n    CATEGORY VARCHAR(16777216) -- Will hold the document category to enable filtering\n);",
   "execution_count": null
  },
  {
   "cell_type": "markdown",
   "id": "ab3383b3-0cb6-4b09-bbf9-064caae4a7f0",
   "metadata": {
    "name": "cell6",
    "collapsed": false
   },
   "source": "### Function SNOWFLAKE.CORTEX.PARSE_DOCUMENT will be used to read the PDF documents directly from the staging area. The text will be passed to the function previously created to split the text into chunks. There is no need to create embeddings as that will be managed automatically by Cortex Search service later.\n"
  },
  {
   "cell_type": "code",
   "id": "3e3a08ba-7635-4a78-931a-12510645d5c3",
   "metadata": {
    "language": "sql",
    "name": "cell9"
   },
   "outputs": [],
   "source": "insert into docs_chunks_table (relative_path, size, file_url,\n                            scoped_file_url, chunk)\n\n    select relative_path, \n            size,\n            file_url, \n            build_scoped_file_url(@docs, relative_path) as scoped_file_url,\n            func.chunk as chunk\n    from \n        directory(@docs),\n        TABLE(text_chunker (TO_VARCHAR(SNOWFLAKE.CORTEX.PARSE_DOCUMENT(@docs, relative_path, {'mode': 'LAYOUT'})))) as func;",
   "execution_count": null
  },
  {
   "cell_type": "code",
   "id": "786c8194-2d02-46a9-a083-d6d3be3e780b",
   "metadata": {
    "language": "sql",
    "name": "cell8"
   },
   "outputs": [],
   "source": "select * from docs_chunks_table;",
   "execution_count": null
  },
  {
   "cell_type": "markdown",
   "id": "c8b5b476-74c9-4d33-9a6a-c93c75179f6b",
   "metadata": {
    "name": "cell10",
    "collapsed": false
   },
   "source": "### Creating a temp table to load the category of each document using the COMPLETE function"
  },
  {
   "cell_type": "code",
   "id": "eca98fcd-ab08-4da7-9e4f-9979c1f298e4",
   "metadata": {
    "language": "sql",
    "name": "cell15"
   },
   "outputs": [],
   "source": "CREATE\nOR REPLACE TEMPORARY TABLE docs_categories AS WITH unique_documents AS (\n  SELECT\n    DISTINCT relative_path\n  FROM\n    docs_chunks_table\n),\ndocs_category_cte AS (\n  SELECT\n    relative_path,\n    TRIM(snowflake.cortex.COMPLETE (\n      'llama3-70b',\n      'Given the name of the file between <file> and </file> determine if it is related to banking services or customer support or tech support.\n       Very strictly, Use only one word <file> ' || relative_path || '</file>'\n    ), '\\n') AS category\n  FROM\n    unique_documents\n)\nSELECT\n  *\nFROM\n  docs_category_cte;",
   "execution_count": null
  },
  {
   "cell_type": "code",
   "id": "46be1fc0-6779-4c4a-96e2-acd5d92ca4de",
   "metadata": {
    "language": "sql",
    "name": "cell16"
   },
   "outputs": [],
   "source": "SELECT\n  *\nFROM\n  docs_category_cte;",
   "execution_count": null
  },
  {
   "cell_type": "markdown",
   "id": "05a5c0e2-024f-441d-bc2c-a2cd0f79403d",
   "metadata": {
    "name": "cell17",
    "collapsed": false
   },
   "source": "### Update the Chunks Table with the  identified category"
  },
  {
   "cell_type": "code",
   "id": "ece645c3-4c61-45e1-8f27-25d5f8bbf382",
   "metadata": {
    "language": "sql",
    "name": "cell18"
   },
   "outputs": [],
   "source": "update docs_chunks_table \n  SET category = docs_categories.category\n  from docs_categories\n  where  docs_chunks_table.relative_path = docs_categories.relative_path;",
   "execution_count": null
  },
  {
   "cell_type": "markdown",
   "id": "a24e1f78-020e-443e-abf7-67df104cfaba",
   "metadata": {
    "name": "cell19",
    "collapsed": false
   },
   "source": "### Verify the tables"
  },
  {
   "cell_type": "code",
   "id": "d3e00845-2324-48d6-ac2c-cfe942306581",
   "metadata": {
    "language": "sql",
    "name": "cell20"
   },
   "outputs": [],
   "source": "select * from docs_categories;\nselect * from docs_chunks_table;",
   "execution_count": null
  },
  {
   "cell_type": "markdown",
   "id": "8185d63a-f544-4e46-a311-f319f37cc859",
   "metadata": {
    "name": "cell21",
    "collapsed": false
   },
   "source": "### Cortex Search is created and enabled on the chunk column"
  },
  {
   "cell_type": "code",
   "id": "f7ba2224-d49c-445d-a9c4-51eb4875316f",
   "metadata": {
    "language": "sql",
    "name": "cell22"
   },
   "outputs": [],
   "source": "create or replace CORTEX SEARCH SERVICE CUSTOMER_SEARCH_SERVICE\nON chunk\nATTRIBUTES CATEGORY\nwarehouse = COMPUTE_WH\nTARGET_LAG = '1 minute'\nas (\n    select chunk,\n        relative_path,\n        file_url,\n        category\n    from docs_chunks_table\n);\n",
   "execution_count": null
  }
 ]
}